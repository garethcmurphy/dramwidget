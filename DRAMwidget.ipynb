{
 "cells": [
  {
   "cell_type": "code",
   "execution_count": 41,
   "metadata": {},
   "outputs": [
    {
     "name": "stdout",
     "output_type": "stream",
     "text": [
      "Requirement already up-to-date: scicat in /usr/local/lib/python3.7/site-packages (1.1.7)\n",
      "Requirement already satisfied, skipping upgrade: requests in /usr/local/lib/python3.7/site-packages (from scicat) (2.19.1)\n",
      "Requirement already satisfied, skipping upgrade: certifi>=2017.4.17 in /usr/local/lib/python3.7/site-packages (from requests->scicat) (2018.8.13)\n",
      "Requirement already satisfied, skipping upgrade: chardet<3.1.0,>=3.0.2 in /usr/local/lib/python3.7/site-packages (from requests->scicat) (3.0.4)\n",
      "Requirement already satisfied, skipping upgrade: idna<2.8,>=2.5 in /usr/local/lib/python3.7/site-packages (from requests->scicat) (2.7)\n",
      "Requirement already satisfied, skipping upgrade: urllib3<1.24,>=1.21.1 in /usr/local/lib/python3.7/site-packages (from requests->scicat) (1.23)\n",
      "\u001b[33mWARNING: You are using pip version 19.2.2, however version 19.3.1 is available.\n",
      "You should consider upgrading via the 'pip install --upgrade pip' command.\u001b[0m\n"
     ]
    }
   ],
   "source": [
    "!pip3 install scicat --upgrade"
   ]
  },
  {
   "cell_type": "code",
   "execution_count": 1,
   "metadata": {},
   "outputs": [
    {
     "name": "stdout",
     "output_type": "stream",
     "text": [
      "1 result found!\n"
     ]
    }
   ],
   "source": [
    "import scicat\n",
    "r=scicat.search(\"v20\",1)"
   ]
  },
  {
   "cell_type": "code",
   "execution_count": 2,
   "metadata": {},
   "outputs": [
    {
     "name": "stdout",
     "output_type": "stream",
     "text": [
      "Username garethmurphy\n",
      "{'access_token': 'lw3pRnq1bIYp6SOwKQjHp2PBzbjSGl4pEloLi08YyF18Vfjf1AqH7yMbumAJpdWz', 'userId': '5d3ae1579f7a770009393831'}\n",
      "token lw3pRnq1bIYp6SOwKQjHp2PBzbjSGl4pEloLi08YyF18Vfjf1AqH7yMbumAJpdWz\n"
     ]
    }
   ],
   "source": [
    "a=scicat.login()"
   ]
  },
  {
   "cell_type": "code",
   "execution_count": 14,
   "metadata": {},
   "outputs": [
    {
     "name": "stdout",
     "output_type": "stream",
     "text": [
      "Username garethmurphy\n",
      "{'access_token': '1KIosV25sWxfaW6xkg6qo5Z2sWd0XtARkJpefItxPNjckwT2FrzdONUPBjPZBd5V', 'userId': '5d3ae1579f7a770009393831'}\n",
      "token 1KIosV25sWxfaW6xkg6qo5Z2sWd0XtARkJpefItxPNjckwT2FrzdONUPBjPZBd5V\n",
      "https://scicat.esss.se/api/v3/Users/userInfos?access_token=1KIosV25sWxfaW6xkg6qo5Z2sWd0XtARkJpefItxPNjckwT2FrzdONUPBjPZBd5V\n"
     ]
    }
   ],
   "source": [
    "response=scicat.userinfo()\n",
    "email=response['currentUserEmail']\n",
    "\n",
    "user=response['currentUser']\n",
    "\n",
    "groups=response['currentGroups']\n"
   ]
  },
  {
   "cell_type": "code",
   "execution_count": 15,
   "metadata": {},
   "outputs": [],
   "source": [
    "\n",
    "\n",
    "from ipywidgets import interact, interactive, fixed, interact_manual, Text\n",
    "import ipywidgets as widgets\n",
    "\n",
    "style = {'description_width': '150px', 'width': '200px'}\n",
    "layout = {'width': '500px'}\n",
    "\n",
    "\n",
    "\n",
    "\n",
    "# print(username)\n",
    "\n",
    "def helper(a,b,c,d,e,f,g):\n",
    "    #pass\n",
    "    print (a)\n",
    "        \n",
    "datasetName = Text(value='Reduced neutron data', placeholder='Reduced neutron data',description='dataset Name:',disabled=False, style=style, layout=layout)\n",
    "softwareUsed = Text(value='Mantid v4.0', placeholder='Mantid',description='Software used:',disabled=False, style=style, layout=layout)\n",
    "email = Text(value=email, placeholder=email,description='Email:',disabled=False, style=style, layout=layout)\n",
    "username = Text(value=user, placeholder=user,description='Username:',disabled=False, style=style, layout=layout)\n",
    "orcid = Text(value='', placeholder='orcid',description='ORCiD:',disabled=False, style=style, layout=layout)\n",
    "sourceFolder = Text(value='/nfs/dram', placeholder='/nfs/dram',description='Source Folder',disabled=False, style=style, layout=layout)\n",
    "description = Text(value='Reduced neutron data', placeholder='Reduced neutron data',description='Description:',disabled=False, style=style, layout=layout)\n",
    "group = Text(value='ess', placeholder='ess',description='Group',disabled=False, style=style, layout=layout)\n",
    "\n",
    "\n",
    "\n",
    "\n",
    "\n",
    "\n",
    "\n"
   ]
  },
  {
   "cell_type": "code",
   "execution_count": 16,
   "metadata": {},
   "outputs": [
    {
     "data": {
      "application/vnd.jupyter.widget-view+json": {
       "model_id": "2d7b1beff66a40ceb1ca74ce82576d76",
       "version_major": 2,
       "version_minor": 0
      },
      "text/plain": [
       "interactive(children=(Text(value='Reduced neutron data', description='dataset Name:', layout=Layout(width='500…"
      ]
     },
     "metadata": {},
     "output_type": "display_data"
    }
   ],
   "source": [
    "x=interactive(helper, a=datasetName,b=softwareUsed,c=email,d=username, e=orcid, f=sourceFolder, g=group)\n",
    "display(x)"
   ]
  },
  {
   "cell_type": "code",
   "execution_count": 19,
   "metadata": {},
   "outputs": [
    {
     "name": "stdout",
     "output_type": "stream",
     "text": [
      "{'datasetName': 'Reduced neutron data', 'investigator': 'string', 'inputDatasets': ['string'], 'usedSoftware': ['Mantid v4.0'], 'jobParameters': {}, 'jobLogData': 'string', 'scientificMetadata': {}, 'pid': 'string', 'owner': 'Gareth Murphy', 'ownerGroup': 'ess', 'ownerEmail': 'gareth.murphy@esss.se', 'orcidOfOwner': '', 'contactEmail': 'gareth.murphy@esss.se', 'sourceFolder': 'string', 'size': 0, 'packedSize': 0, 'creationTime': '2019-10-23T12:44:32.407Z', 'type': 'derived', 'validationStatus': 'valid', 'keywords': ['neutron'], 'description': 'Reduced neutron data', 'classification': 'string', 'license': 'string', 'version': 'string', 'isPublished': True}\n"
     ]
    }
   ],
   "source": [
    "derived = {\"datasetName\" : datasetName.value ,\n",
    "            \"investigator\": \"string\",\n",
    "  \"inputDatasets\": [\n",
    "    \"string\"\n",
    "  ],\n",
    "  \"usedSoftware\": [\n",
    "    softwareUsed.value\n",
    "  ],\n",
    "  \"jobParameters\": {},\n",
    "  \"jobLogData\": \"string\",\n",
    "  \"scientificMetadata\": {},\n",
    "  \"pid\": \"string\",\n",
    "  \"owner\": username.value,\n",
    "  \"ownerGroup\": group.value,\n",
    "  \"ownerEmail\": email.value,\n",
    "  \"orcidOfOwner\": orcid.value,\n",
    "  \"contactEmail\": email.value,\n",
    "  \"sourceFolder\": \"string\",\n",
    "  \"size\": 0,\n",
    "  \"packedSize\": 0,\n",
    "  \"creationTime\": \"2019-10-23T12:44:32.407Z\",\n",
    "  \"type\": \"derived\",\n",
    "  \"validationStatus\": \"valid\",\n",
    "  \"keywords\": [\n",
    "    \"neutron\"\n",
    "  ],\n",
    "  \"description\": description.value,\n",
    "  \"datasetName\": datasetName.value,\n",
    "  \"classification\": \"string\",\n",
    "  \"license\": \"string\",\n",
    "  \"version\": \"string\",\n",
    "  \"isPublished\": True,} \n",
    "print(derived)"
   ]
  },
  {
   "cell_type": "code",
   "execution_count": null,
   "metadata": {},
   "outputs": [],
   "source": []
  },
  {
   "cell_type": "code",
   "execution_count": 19,
   "metadata": {},
   "outputs": [
    {
     "name": "stdout",
     "output_type": "stream",
     "text": [
      "1 result found!\n"
     ]
    }
   ],
   "source": [
    "result=scicat.search('v20',1)"
   ]
  },
  {
   "cell_type": "code",
   "execution_count": null,
   "metadata": {},
   "outputs": [],
   "source": []
  }
 ],
 "metadata": {
  "kernelspec": {
   "display_name": "Python 3",
   "language": "python",
   "name": "python3"
  },
  "language_info": {
   "codemirror_mode": {
    "name": "ipython",
    "version": 3
   },
   "file_extension": ".py",
   "mimetype": "text/x-python",
   "name": "python",
   "nbconvert_exporter": "python",
   "pygments_lexer": "ipython3",
   "version": "3.7.4"
  }
 },
 "nbformat": 4,
 "nbformat_minor": 2
}
